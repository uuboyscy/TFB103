{
 "cells": [
  {
   "cell_type": "code",
   "execution_count": 1,
   "id": "f4d1401a",
   "metadata": {},
   "outputs": [
    {
     "name": "stdout",
     "output_type": "stream",
     "text": [
      "Collecting jieba\n",
      "  Using cached https://files.pythonhosted.org/packages/c6/cb/18eeb235f833b726522d7ebed54f2278ce28ba9438e3135ab0278d9792a2/jieba-0.42.1.tar.gz\n",
      "Installing collected packages: jieba\n",
      "  Running setup.py install for jieba ... \u001b[?25ldone\n",
      "\u001b[?25hSuccessfully installed jieba-0.42.1\n"
     ]
    }
   ],
   "source": [
    "!pip install jieba"
   ]
  },
  {
   "cell_type": "code",
   "execution_count": 2,
   "id": "97bd5f43",
   "metadata": {},
   "outputs": [
    {
     "name": "stderr",
     "output_type": "stream",
     "text": [
      "Building prefix dict from the default dictionary ...\n",
      "Dumping model to file cache /var/folders/bv/8bbkzq895db366kq27vw262r0000gn/T/jieba.cache\n",
      "Loading model cost 1.445 seconds.\n",
      "Prefix dict has been built successfully.\n"
     ]
    },
    {
     "name": "stdout",
     "output_type": "stream",
     "text": [
      "大家 | 好 | ， | 我 | 叫 | 小 | 賀 | ， | 今天 | 來 | 臺 | 北大 | 數 | 據 | 班上 | 課 | ， | 覺 | 得 | 非常 | 開 | 心\n",
      "大家 | 好 | ， | 我 | 叫 | 小賀 | ， | 今天 | 來 | 臺 | 北大 | 數據 | 班上 | 課 | ， | 覺得 | 非常 | 開心\n",
      "大家 | 好 | ， | 我 | 叫 | 小賀 | ， | 今天 | 來 | 臺 | 北大 | 數據 | 班上 | 課 | ， | 覺得 | 非常 | 開心\n",
      "大家 | 好 | ， | 我 | 叫 | 小賀 | ， | 今天 | 來 | 臺 | 北大 | 數據 | 班上 | 課 | ， | 覺得 | 非常 | 開心\n"
     ]
    }
   ],
   "source": [
    "import jieba\n",
    "\n",
    "s = \"大家好，我叫小賀，今天來臺北大數據班上課，覺得非常開心\"\n",
    "\n",
    "# jieba.cut(s, cut_all=True) # return list\n",
    "sCut1 = ' | '.join(jieba.cut(s, cut_all=True))\n",
    "sCut2 = ' | '.join(jieba.cut(s, cut_all=False))\n",
    "sCut3 = ' | '.join(jieba.cut(s))\n",
    "sCut4 = ' | '.join(jieba.cut_for_search(s))\n",
    "\n",
    "print(sCut1)\n",
    "print(sCut2)\n",
    "print(sCut3)\n",
    "print(sCut4)"
   ]
  },
  {
   "cell_type": "code",
   "execution_count": 3,
   "id": "1c692262",
   "metadata": {},
   "outputs": [],
   "source": [
    "jieba.load_userdict('./mydict.txt')"
   ]
  },
  {
   "cell_type": "code",
   "execution_count": 4,
   "id": "c696ebcc",
   "metadata": {},
   "outputs": [
    {
     "name": "stdout",
     "output_type": "stream",
     "text": [
      "大家 | 好 | ， | 我 | 叫 | 小 | 賀 | ， | 今天 | 來 | 臺北 | 北大 | 大數據班 | 班上 | 課 | ， | 覺 | 得 | 非常 | 開 | 心\n",
      "大家 | 好 | ， | 我 | 叫 | 小賀 | ， | 今天 | 來 | 臺北 | 大數據班 | 上課 | ， | 覺得 | 非常 | 開心\n",
      "大家 | 好 | ， | 我 | 叫 | 小賀 | ， | 今天 | 來 | 臺北 | 大數據班 | 上課 | ， | 覺得 | 非常 | 開心\n",
      "大家 | 好 | ， | 我 | 叫 | 小賀 | ， | 今天 | 來 | 臺北 | 大數據班 | 上課 | ， | 覺得 | 非常 | 開心\n"
     ]
    }
   ],
   "source": [
    "s = \"大家好，我叫小賀，今天來臺北大數據班上課，覺得非常開心\"\n",
    "\n",
    "# jieba.cut(s, cut_all=True) # return list\n",
    "sCut1 = ' | '.join(jieba.cut(s, cut_all=True))\n",
    "sCut2 = ' | '.join(jieba.cut(s, cut_all=False))\n",
    "sCut3 = ' | '.join(jieba.cut(s))\n",
    "sCut4 = ' | '.join(jieba.cut_for_search(s))\n",
    "\n",
    "print(sCut1)\n",
    "print(sCut2)\n",
    "print(sCut3)\n",
    "print(sCut4)"
   ]
  },
  {
   "cell_type": "code",
   "execution_count": null,
   "id": "ea7df5bf",
   "metadata": {},
   "outputs": [],
   "source": []
  }
 ],
 "metadata": {
  "kernelspec": {
   "display_name": "Python 3 (ipykernel)",
   "language": "python",
   "name": "python3"
  },
  "language_info": {
   "codemirror_mode": {
    "name": "ipython",
    "version": 3
   },
   "file_extension": ".py",
   "mimetype": "text/x-python",
   "name": "python",
   "nbconvert_exporter": "python",
   "pygments_lexer": "ipython3",
   "version": "3.8.2"
  }
 },
 "nbformat": 4,
 "nbformat_minor": 5
}
